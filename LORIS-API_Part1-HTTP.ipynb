{
 "cells": [
  {
   "cell_type": "markdown",
   "metadata": {},
   "source": [
    "# LORIS API Tour 1/2"
   ]
  },
  {
   "cell_type": "markdown",
   "metadata": {},
   "source": [
    "## HTTP 1.1"
   ]
  },
  {
   "cell_type": "markdown",
   "metadata": {},
   "source": [
    "**Disclaimer! This is not exhaustive and mostly accurate **  \n",
    "*My intention is to present some key concepts that will be used later in the presentation*  \n",
    "\n",
    "\n",
    "URLs are ressources addresse that can be access and interact with using predefined methods.  \n",
    "\n",
    "Protocol : A client send a **request** to a server that should answer with a **response**.  \n",
    "  \n",
    "ex: `https://demo.loris.ca/main.php` is a link to `demo.loris.ca` for the ressource `main.php`"
   ]
  },
  {
   "cell_type": "markdown",
   "metadata": {},
   "source": [
    "### HTTP Request\n",
    "##### Methods\n",
    "  - GET : \n",
    "  - POST\n",
    "  - PUT\n",
    "  - PATCH\n",
    "  - DELETE\n",
    "  - HEAD\n",
    "  \n",
    "##### Headers\n",
    "The headers describe the nature of the request or give hint to the server about how to process it.\n",
    "  - **Accept** *Used for content negociation*\n",
    "  - **Authorization** *Involved in the authentication process*\n",
    "  - **Content-Length** *When the request contains a body (POST/PUT/PATCH)*\n",
    "  - **Content-Type** *When the request contains a body (POST/PUT/PATCH)*\n",
    "  \n",
    "  "
   ]
  },
  {
   "cell_type": "markdown",
   "metadata": {},
   "source": [
    "### HTTP Response\n",
    "##### Status code\n",
    "  1.\t1xx Informational response\n",
    "  2.\t2xx Success\n",
    "  3.\t3xx Redirection\n",
    "  4.\t4xx Client errors\n",
    "  5.\t5xx Server errors  \n",
    "  https://www.w3.org/Protocols/rfc2616/rfc2616-sec10.html\n",
    " \n",
    "**200 OK**  \n",
    "The request has succeeded. The information returned with the response is dependent on the method used in the request, for example:\n",
    "\n",
    "*GET* an entity corresponding to the requested resource is sent in the response  \n",
    "*HEAD* the entity-header fields corresponding to the requested resource are sent in the response without any message-body  \n",
    "*POST* an entity describing or containing the result of the action  \n",
    "*TRACE* an entity containing the request message as received by the end server  \n",
    "  \n",
    "  \n",
    "**303 See Other**  \n",
    "The response to the request can be found under a different URI and SHOULD be retrieved using a GET method on that resource. [...]\n",
    "\n",
    "The different URI SHOULD be given by the Location field in the response. [...]  \n",
    "\n",
    "\n",
    "**400 Bad Request**  \n",
    "The request could not be understood by the server due to malformed syntax. The client SHOULD NOT repeat the request without modifications.\n",
    "\n",
    "**401 Unauthorized** ... _I don't know who you are_  \n",
    "The request requires user authentication. The response MUST include a WWW-Authenticate header field (section 14.47) containing a challenge applicable to the requested resource. [...]\n",
    "\n",
    "**403 Forbidden** ... _I know who you are and you can't access that ressource_  \n",
    "The server understood the request, but is refusing to fulfill it. Authorization will not help and the request SHOULD NOT be repeated. [...]  \n",
    "\n",
    "**404 Not Found**  \n",
    "The server has not found anything matching the Request-URI. [...]  \n",
    "\n",
    "**500 Internal Server Error**  \n",
    "The server encountered an unexpected condition which prevented it from fulfilling the request.\n",
    "      \n",
    "- Headers"
   ]
  },
  {
   "cell_type": "markdown",
   "metadata": {},
   "source": [
    "#### Quick example using curl"
   ]
  },
  {
   "cell_type": "code",
   "execution_count": null,
   "metadata": {},
   "outputs": [],
   "source": [
    "%%bash\n",
    "curl -k -v -s --head https://demo.loris.ca/ "
   ]
  },
  {
   "cell_type": "markdown",
   "metadata": {},
   "source": [
    "#### With a html parser user agent (browser)\n",
    "https://demo.loris.ca"
   ]
  },
  {
   "cell_type": "markdown",
   "metadata": {},
   "source": [
    "## LORIS API ressources (endpoints)\n",
    "\n",
    "Our API documentation: https://github.com/aces/Loris/blob/minor/docs/API/LorisRESTAPI_v0.0.3.md"
   ]
  },
  {
   "cell_type": "code",
   "execution_count": null,
   "metadata": {},
   "outputs": [],
   "source": [
    "%%bash\n",
    "curl -k -v -s https://demo.loris.ca/api/v0.0.2/login -d '{\"username\":\"\", \"password\": \"\"}'"
   ]
  }
 ],
 "metadata": {
  "kernelspec": {
   "display_name": "Python 3",
   "language": "python",
   "name": "python3"
  },
  "language_info": {
   "codemirror_mode": {
    "name": "ipython",
    "version": 3
   },
   "file_extension": ".py",
   "mimetype": "text/x-python",
   "name": "python",
   "nbconvert_exporter": "python",
   "pygments_lexer": "ipython3",
   "version": "3.6.2"
  }
 },
 "nbformat": 4,
 "nbformat_minor": 2
}
