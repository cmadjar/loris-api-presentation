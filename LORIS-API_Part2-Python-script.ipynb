{
 "cells": [
  {
   "cell_type": "markdown",
   "metadata": {},
   "source": [
    "## Setup"
   ]
  },
  {
   "cell_type": "code",
   "execution_count": null,
   "metadata": {
    "collapsed": true,
    "scrolled": true
   },
   "outputs": [],
   "source": [
    "import getpass  # For input prompt not to show what is entered\n",
    "import json     # Provide convinent functions to handle json objects \n",
    "import re       # For regular expression\n",
    "import requests # To handle http requests\n",
    "\n",
    "import warnings\n",
    "warnings.simplefilter('ignore') # Because I am using unverified ssl certificates \n",
    "\n",
    "baseurl = 'https://demo.loris.ca/api/v0.0.2' # Pick yours"
   ]
  },
  {
   "cell_type": "markdown",
   "metadata": {},
   "source": [
    "## Exercise 1. Login\n",
    "\n",
    "This is a POST request to the `/login` endpoint that requires 2 parameters: `username` and `password`  \n",
    "The expected response is a json string that contains a token property.  \n",
    "\n",
    "https://github.com/aces/Loris/blob/minor/docs/API/LorisRESTAPI.md#11-authentication"
   ]
  },
  {
   "cell_type": "code",
   "execution_count": null,
   "metadata": {
    "scrolled": true
   },
   "outputs": [],
   "source": [
    "payload = {\n",
    "    'username': input('username: '), \n",
    "    'password': getpass.getpass('password: ')\n",
    "}\n",
    "\n",
    "response = requests.post(\n",
    "    url = baseurl + '/login',\n",
    "    json = payload,\n",
    "    verify = False\n",
    ")\n",
    "\n",
    "text = response.content.decode('ascii')\n",
    "\n",
    "data = json.loads(text)\n",
    "\n",
    "print(data)"
   ]
  },
  {
   "cell_type": "markdown",
   "metadata": {},
   "source": [
    "*Store the token in a variable for later*"
   ]
  },
  {
   "cell_type": "code",
   "execution_count": null,
   "metadata": {
    "collapsed": true,
    "scrolled": true
   },
   "outputs": [],
   "source": [
    "token = data['token']"
   ]
  },
  {
   "cell_type": "markdown",
   "metadata": {},
   "source": [
    "## Exercise 2. Print all candidates candid\n",
    "\n",
    "This is a GET request to /candidates  \n",
    "\n",
    "https://github.com/aces/Loris/blob/minor/docs/API/LorisRESTAPI.md#30-candidate-api"
   ]
  },
  {
   "cell_type": "code",
   "execution_count": null,
   "metadata": {
    "collapsed": true
   },
   "outputs": [],
   "source": [
    "response = json.loads(requests.get(\n",
    "    url = baseurl + '/candidates',\n",
    "    verify = False,\n",
    "    headers = {'Authorization': 'Bearer %s' % token}\n",
    ").content.decode('ascii'))"
   ]
  },
  {
   "cell_type": "code",
   "execution_count": null,
   "metadata": {},
   "outputs": [],
   "source": [
    "print(json.dumps(response, indent=2, sort_keys=True))"
   ]
  },
  {
   "cell_type": "code",
   "execution_count": null,
   "metadata": {},
   "outputs": [],
   "source": [
    "candidates = response['Candidates']\n",
    "for candidate in candidates:\n",
    "    print(candidate['CandID'])"
   ]
  },
  {
   "cell_type": "markdown",
   "metadata": {},
   "source": [
    "## Exercise 3. Find all candidates and session with a given instruments\n",
    "\n",
    "This is a series of GET request  \n",
    "\n",
    "https://github.com/aces/Loris/blob/minor/docs/API/LorisRESTAPI.md#31-specific-candidate  \n",
    "https://github.com/aces/Loris/blob/minor/docs/API/LorisRESTAPI.md#33-candidate-instruments   \n",
    "https://github.com/aces/Loris/blob/minor/docs/API/LorisRESTAPI.md#33-the-candidate-instrument-data"
   ]
  },
  {
   "cell_type": "code",
   "execution_count": null,
   "metadata": {},
   "outputs": [],
   "source": [
    "instrument = 'bmi'\n",
    "\n",
    "for candidate in candidates:\n",
    "    candid = candidate['CandID']\n",
    "    response = json.loads(requests.get(\n",
    "        url = baseurl + '/candidates/' + candid,\n",
    "        verify = False,\n",
    "        headers = {'Authorization': 'Bearer %s' % token}\n",
    "    ).content.decode('ascii'))\n",
    "    visit_labels = response['Visits']\n",
    "    for visit_label in visit_labels:\n",
    "        response = json.loads(requests.get(\n",
    "            url = baseurl + '/candidates/' + candid + '/' + visit_label + '/instruments',\n",
    "            verify = False,\n",
    "            headers = {'Authorization': 'Bearer %s' % token}\n",
    "        ).content.decode('ascii'))\n",
    "        if instrument in response['Instruments']:\n",
    "            response = json.loads(requests.get(\n",
    "                url = baseurl + '/candidates/' + candid + '/' + visit_label + '/instruments/' + instrument,\n",
    "                verify = False,\n",
    "                headers = {'Authorization': 'Bearer %s' % token}\n",
    "            ).content.decode('ascii'))\n",
    "            print(json.dumps(response, indent=2, sort_keys=True))"
   ]
  },
  {
   "cell_type": "markdown",
   "metadata": {},
   "source": [
    "## Exercise 4. Input instrument data for a candidate\n",
    "  \n",
    "PUT or PATCH request to /candidates/$CandID/$VisitLabel/instruments/$InstrumentName  \n",
    "\n",
    "https://github.com/aces/Loris/blob/minor/docs/API/LorisRESTAPI.md#33-the-candidate-instrument-data\n",
    "\n",
    "data format:\n",
    "```json\n",
    "{\n",
    "  \"Meta\": {\n",
    "    \"Candidate\": string,\n",
    "    \"DDE\": true|false,\n",
    "    \"Instrument\": string,\n",
    "    \"Visit\": string\n",
    "  },\n",
    "  <instrument_name>: {\n",
    "    <field1_name>: <value1>,\n",
    "    <field2_name>: <value2>,\n",
    "    ...\n",
    "  }\n",
    "}\n",
    "```\n"
   ]
  },
  {
   "cell_type": "code",
   "execution_count": null,
   "metadata": {},
   "outputs": [],
   "source": [
    "def getInstrumentData(candid, visit_label, instrument):\n",
    "    return json.loads(requests.get(\n",
    "        url = baseurl + '/candidates/' + candid + '/' + visit_label + '/instruments/' + instrument,\n",
    "        verify = False,\n",
    "        headers = {'Authorization': 'Bearer %s' % token}\n",
    "    ).content.decode('ascii'))\n",
    "\n",
    "def prettyPrint(string):\n",
    "    print(json.dumps(string, indent=2, sort_keys=True))\n",
    "    \n",
    "instrument = 'bmi'\n",
    "candid = '306843'\n",
    "visit_label = 'V01'\n",
    "\n",
    "prettyPrint(getInstrumentData(candid, visit_label, instrument))"
   ]
  },
  {
   "cell_type": "markdown",
   "metadata": {},
   "source": [
    "#### PUT request containing all the fields"
   ]
  },
  {
   "cell_type": "code",
   "execution_count": null,
   "metadata": {},
   "outputs": [],
   "source": [
    "# Get all the fields an meta data\n",
    "json_input = getInstrumentData(candid, visit_label, instrument)\n",
    "\n",
    "# Update one field\n",
    "json_input[instrument]['weight_kgs'] = 3\n",
    "\n",
    "r = requests.put(\n",
    "    url = baseurl + '/candidates/' + candid + '/' + visit_label + '/instruments/' + instrument,\n",
    "    json = json_input,\n",
    "    verify = False,\n",
    "    headers = {'Authorization': 'Bearer %s' % token}\n",
    ")\n",
    "print(r.status_code) # <Response [500]> demo.loris.ca do not handle that on LORIS 16...\n",
    "\n",
    "prettyPrint(getInstrumentData(candid, visit_label, instrument))"
   ]
  },
  {
   "cell_type": "markdown",
   "metadata": {
    "collapsed": true
   },
   "source": [
    "#### PATCH request containing some of the fields"
   ]
  },
  {
   "cell_type": "code",
   "execution_count": null,
   "metadata": {},
   "outputs": [],
   "source": [
    "# Get all the meta data\n",
    "old_values = getInstrumentData(candid, visit_label, instrument)\n",
    "new_values = {}\n",
    "new_values['Meta'] = old_values['Meta']\n",
    "\n",
    "# Add fields in the instrument object\n",
    "new_values[instrument] = {}\n",
    "new_values[instrument]['weight_kgs'] = 2\n",
    "new_values[instrument]['height_inches'] = 5\n",
    "\n",
    "prettyPrint(new_values)\n"
   ]
  },
  {
   "cell_type": "code",
   "execution_count": null,
   "metadata": {},
   "outputs": [],
   "source": [
    "r = requests.patch(\n",
    "    url = baseurl + '/candidates/' + candid + '/' + visit_label + '/instruments/' + instrument,\n",
    "    json = new_values,\n",
    "    verify = False,\n",
    "    headers = {'Authorization': 'Bearer %s' % token}\n",
    ")\n",
    "print(r.status_code) # <Response [500]> demo.loris.ca do not handle that on LORIS 16...\n",
    "\n",
    "prettyPrint(getInstrumentData(candid, visit_label, instrument))"
   ]
  },
  {
   "cell_type": "markdown",
   "metadata": {
    "collapsed": true
   },
   "source": [
    "## Exercise 5. Create a candidate and add a V01 session to it  \n",
    "\n",
    "https://github.com/aces/Loris/blob/minor/docs/API/LorisRESTAPI.md#30-candidate-api  \n",
    "https://github.com/aces/Loris/blob/minor/docs/API/LorisRESTAPI.md#32-getting-candidate-visit-data  \n"
   ]
  },
  {
   "cell_type": "code",
   "execution_count": null,
   "metadata": {},
   "outputs": [],
   "source": [
    "json_data = {\n",
    "    \"Candidate\" : {\n",
    "        'Project' : 'loris',\n",
    "        'Site'    : 'Montreal',\n",
    "        'DoB'     : '2008-10-05',\n",
    "        'EDC'     : '2008-10-05',\n",
    "        'Gender'  : 'Female'\n",
    "    }\n",
    "}\n",
    "response = json.loads(requests.post(\n",
    "    url = baseurl + '/candidates/',\n",
    "    verify = False,\n",
    "    json = json_data,\n",
    "    headers = {'Authorization': 'Bearer %s' % token}\n",
    ").content.decode('ascii'))\n",
    "\n",
    "print(response)"
   ]
  },
  {
   "cell_type": "code",
   "execution_count": null,
   "metadata": {
    "collapsed": true
   },
   "outputs": [],
   "source": [
    "# Add a Visit\n",
    "candid = str(response['Meta']['CandID'])\n",
    "site = 'Montreal'\n",
    "visit_label = 'V01'\n",
    "battery = 'Control'\n",
    "\n",
    "json_data = {\n",
    "    'Meta' : {\n",
    "        'CandID'  : candid,\n",
    "        'Visit'   : visit_label,\n",
    "        'Site'    : site,\n",
    "        'Battery' : battery\n",
    "    }\n",
    "}\n",
    "\n",
    "r = requests.put(\n",
    "    url = baseurl + '/candidates/' + candid + '/' + visit_label,\n",
    "    verify = False,\n",
    "    json = json_data,\n",
    "    headers = {'Authorization': 'Bearer %s' % token}\n",
    ")\n",
    "print(r)"
   ]
  },
  {
   "cell_type": "code",
   "execution_count": null,
   "metadata": {
    "collapsed": true
   },
   "outputs": [],
   "source": []
  }
 ],
 "metadata": {
  "kernelspec": {
   "display_name": "Python 3",
   "language": "python",
   "name": "python3"
  },
  "language_info": {
   "codemirror_mode": {
    "name": "ipython",
    "version": 3
   },
   "file_extension": ".py",
   "mimetype": "text/x-python",
   "name": "python",
   "nbconvert_exporter": "python",
   "pygments_lexer": "ipython3",
   "version": "3.6.2"
  }
 },
 "nbformat": 4,
 "nbformat_minor": 2
}
