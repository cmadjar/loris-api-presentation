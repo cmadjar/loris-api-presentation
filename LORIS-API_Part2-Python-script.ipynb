{
 "cells": [
  {
   "cell_type": "markdown",
   "metadata": {},
   "source": [
    "## Setup"
   ]
  },
  {
   "cell_type": "code",
   "execution_count": null,
   "metadata": {
    "collapsed": true,
    "scrolled": true
   },
   "outputs": [],
   "source": [
    "import getpass  # For input prompt not to show what is entered\n",
    "import json     # Provide convinent functions to handle json objects \n",
    "import re       # For regular expression\n",
    "import requests # To handle http requests\n",
    "\n",
    "import warnings\n",
    "warnings.simplefilter('ignore') # Because I am using unverified ssl certificates \n",
    "\n",
    "baseurl = 'https://localhost/api/v0.0.2' # Pick yours"
   ]
  },
  {
   "cell_type": "markdown",
   "metadata": {},
   "source": [
    "## Exercise 1. Login\n",
    "\n",
    "This is a POST request to the `/login` endpoint that requires 2 parameters: `username` and `password`  \n",
    "The expected response is a json string that contains a token property."
   ]
  },
  {
   "cell_type": "code",
   "execution_count": null,
   "metadata": {
    "collapsed": true,
    "scrolled": true
   },
   "outputs": [],
   "source": [
    "response = json.loads(requests.post(\n",
    "    url = baseurl + '/login',\n",
    "    json = {'username': input('username: '), 'password': getpass.getpass('password: ')},\n",
    "    verify = False\n",
    ").content.decode('ascii'))\n",
    "print(response)"
   ]
  },
  {
   "cell_type": "markdown",
   "metadata": {},
   "source": [
    "*Store the token in a variable for later*"
   ]
  },
  {
   "cell_type": "code",
   "execution_count": null,
   "metadata": {
    "collapsed": true,
    "scrolled": true
   },
   "outputs": [],
   "source": [
    "token = response['token']"
   ]
  },
  {
   "cell_type": "markdown",
   "metadata": {},
   "source": [
    "## Exercise 2. Print all candidates candid\n",
    "\n",
    "This is a GET request to /candidates"
   ]
  },
  {
   "cell_type": "code",
   "execution_count": null,
   "metadata": {
    "collapsed": true
   },
   "outputs": [],
   "source": [
    "response = json.loads(requests.get(\n",
    "    url = baseurl + '/candidates',\n",
    "    verify = False,\n",
    "    headers = {'Authorization': 'Bearer %s' % token}\n",
    ").content.decode('ascii'))"
   ]
  },
  {
   "cell_type": "code",
   "execution_count": null,
   "metadata": {
    "collapsed": true
   },
   "outputs": [],
   "source": [
    "print(json.dumps(response, indent=2, sort_keys=True))"
   ]
  },
  {
   "cell_type": "code",
   "execution_count": null,
   "metadata": {
    "collapsed": true
   },
   "outputs": [],
   "source": [
    "candidates = response['Candidates']\n",
    "for candidate in candidates:\n",
    "    print(candidate['CandID'])"
   ]
  },
  {
   "cell_type": "markdown",
   "metadata": {},
   "source": [
    "## Exercise 3. Find all candidates and session with tsi instruments\n",
    "\n",
    "This is a series of GET request"
   ]
  },
  {
   "cell_type": "code",
   "execution_count": null,
   "metadata": {
    "collapsed": true
   },
   "outputs": [],
   "source": [
    "instrument = 'test_all_fields'\n",
    "\n",
    "for candidate in candidates:\n",
    "    candid = candidate['CandID']\n",
    "    response = json.loads(requests.get(\n",
    "        url = baseurl + '/candidates/' + candid,\n",
    "        verify = False,\n",
    "        headers = {'Authorization': 'Bearer %s' % token}\n",
    "    ).content.decode('ascii'))\n",
    "    visit_labels = response['Visits']\n",
    "    for visit_label in visit_labels:\n",
    "        response = json.loads(requests.get(\n",
    "            url = baseurl + '/candidates/' + candid + '/' + visit_label + '/instruments',\n",
    "            verify = False,\n",
    "            headers = {'Authorization': 'Bearer %s' % token}\n",
    "        ).content.decode('ascii'))\n",
    "        if instrument in response['Instruments']:\n",
    "            response = json.loads(requests.get(\n",
    "                url = baseurl + '/candidates/' + candid + '/' + visit_label + '/instruments/' + instrument,\n",
    "                verify = False,\n",
    "                headers = {'Authorization': 'Bearer %s' % token}\n",
    "            ).content.decode('ascii'))\n",
    "            print(json.dumps(response, indent=2, sort_keys=True))"
   ]
  },
  {
   "cell_type": "markdown",
   "metadata": {},
   "source": [
    "## Exercise 4. Inputs instrument data for a candidate"
   ]
  },
  {
   "cell_type": "code",
   "execution_count": null,
   "metadata": {
    "collapsed": true
   },
   "outputs": [],
   "source": [
    "def getInstrumentData(candid, visit_label, instrument):\n",
    "    return json.loads(requests.get(\n",
    "        url = baseurl + '/candidates/' + candid + '/' + visit_label + '/instruments/' + instrument,\n",
    "        verify = False,\n",
    "        headers = {'Authorization': 'Bearer %s' % token}\n",
    "    ).content.decode('ascii'))\n",
    "\n",
    "instrument = 'test_all_fields'\n",
    "candid = '300001'\n",
    "visit_label = 'V01'\n",
    "\n",
    "print(getInstrumentData(candid, visit_label, instrument))"
   ]
  },
  {
   "cell_type": "markdown",
   "metadata": {},
   "source": [
    "#### PUT request containing all the fields"
   ]
  },
  {
   "cell_type": "code",
   "execution_count": null,
   "metadata": {
    "collapsed": true
   },
   "outputs": [],
   "source": [
    "# Get all the fields an meta data\n",
    "json_input = getInstrumentData(candid, visit_label, instrument)\n",
    "\n",
    "# Update one field\n",
    "json_input[instrument]['numeric_1'] = int(json_input[instrument]['numeric_1']) + 1\n",
    "\n",
    "\n",
    "r = requests.put(\n",
    "    url = baseurl + '/candidates/' + candid + '/' + visit_label + '/instruments/' + instrument,\n",
    "    json = json_input,\n",
    "    verify = False,\n",
    "    headers = {'Authorization': 'Bearer %s' % token}\n",
    ")\n",
    "\n",
    "print(r.status_code)\n",
    "print(r.text)\n",
    "print(getInstrumentData(candid, visit_label, instrument))"
   ]
  },
  {
   "cell_type": "markdown",
   "metadata": {
    "collapsed": true
   },
   "source": [
    "#### PATCH request containing some of the fields"
   ]
  },
  {
   "cell_type": "code",
   "execution_count": null,
   "metadata": {
    "collapsed": true
   },
   "outputs": [],
   "source": [
    "# Get all the meta data\n",
    "json_input = getInstrumentData(candid, visit_label, instrument)['Meta']\n",
    "\n",
    "# Add fields in the instrument object\n",
    "json_input[instrument] = {}\n",
    "json_input[instrument]['numeric_1'] = 45\n",
    "json_input[instrument]['score_field_1'] = None\n",
    "\n",
    "print(json.dumps(json_input, indent=2, sort_keys=True))\n"
   ]
  },
  {
   "cell_type": "code",
   "execution_count": null,
   "metadata": {
    "collapsed": true
   },
   "outputs": [],
   "source": [
    "r = requests.patch(\n",
    "    url = baseurl + '/candidates/' + candid + '/' + visit_label + '/instruments/' + instrument,\n",
    "    json = json_input,\n",
    "    verify = False,\n",
    "    headers = {'Authorization': 'Bearer %s' % token}\n",
    ")\n",
    "\n",
    "print(r.status_code)\n",
    "print(r.text)\n",
    "print(getInstrumentData(candid, visit_label, instrument))"
   ]
  }
 ],
 "metadata": {
  "kernelspec": {
   "display_name": "Python 3",
   "language": "python",
   "name": "python3"
  },
  "language_info": {
   "codemirror_mode": {
    "name": "ipython",
    "version": 3
   },
   "file_extension": ".py",
   "mimetype": "text/x-python",
   "name": "python",
   "nbconvert_exporter": "python",
   "pygments_lexer": "ipython3",
   "version": "3.6.2"
  }
 },
 "nbformat": 4,
 "nbformat_minor": 2
}
